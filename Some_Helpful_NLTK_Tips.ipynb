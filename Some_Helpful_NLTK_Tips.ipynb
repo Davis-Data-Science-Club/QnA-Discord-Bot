{
 "cells": [
  {
   "cell_type": "code",
   "execution_count": 1,
   "id": "f5605d96",
   "metadata": {},
   "outputs": [],
   "source": [
    "import nltk\n",
    "from nltk.stem import WordNetLemmatizer #This \"lemmatizes\" the words, aka removes stems (ex: running becomes run)"
   ]
  },
  {
   "cell_type": "code",
   "execution_count": 2,
   "id": "2b26d71e",
   "metadata": {},
   "outputs": [
    {
     "data": {
      "text/plain": [
       "True"
      ]
     },
     "execution_count": 2,
     "metadata": {},
     "output_type": "execute_result"
    }
   ],
   "source": [
    "nltk.download('popular', quiet=True) #downloads packages"
   ]
  },
  {
   "cell_type": "code",
   "execution_count": 8,
   "id": "c1b41dd9",
   "metadata": {},
   "outputs": [],
   "source": [
    "#Example sentence (single quote)\n",
    "paragraph = \"The University of California, Davis (UC Davis, UCD, or Davis) is a public land-grant research university near Davis, California.[11] Named a Public Ivy,[12] it is the northernmost of the ten campuses of the University of California system. The institution was first founded as an agricultural branch of the system in 1905 and became the seventh campus of the University of California in 1959.\""
   ]
  },
  {
   "cell_type": "code",
   "execution_count": 9,
   "id": "27981b8b",
   "metadata": {},
   "outputs": [],
   "source": [
    "#Example sentence (notice the triple quotes)\n",
    "paragraph = \"\"\"The University of California, Davis (UC Davis, UCD, or Davis) is a public land-grant research university near \n",
    "Davis, California.[11] Named a Public Ivy,[12] it is the northernmost of the ten campuses of the University of California \n",
    "system. The institution was first founded as an agricultural branch of the system in 1905 and became the seventh campus of \n",
    "the University of California in 1959.\"\"\""
   ]
  },
  {
   "cell_type": "code",
   "execution_count": 10,
   "id": "ff526969",
   "metadata": {},
   "outputs": [
    {
     "name": "stdout",
     "output_type": "stream",
     "text": [
      "The University of California, Davis (UC Davis, UCD, or Davis) is a public land-grant research university near \n",
      "Davis, California.[11] Named a Public Ivy,[12] it is the northernmost of the ten campuses of the University of California \n",
      "system. The institution was first founded as an agricultural branch of the system in 1905 and became the seventh campus of \n",
      "the University of California in 1959.\n"
     ]
    }
   ],
   "source": [
    "print(paragraph)"
   ]
  },
  {
   "cell_type": "code",
   "execution_count": 11,
   "id": "176abae1",
   "metadata": {},
   "outputs": [],
   "source": [
    "#Tokenizing splits either words or sentences into individual elements\n",
    "sent_tokens = nltk.sent_tokenize(paragraph)# converts to list of sentences \n",
    "word_tokens = nltk.word_tokenize(paragraph)# converts to list of words"
   ]
  },
  {
   "cell_type": "code",
   "execution_count": 14,
   "id": "639d924b",
   "metadata": {},
   "outputs": [
    {
     "data": {
      "text/plain": [
       "['The University of California, Davis (UC Davis, UCD, or Davis) is a public land-grant research university near \\nDavis, California.',\n",
       " '[11] Named a Public Ivy,[12] it is the northernmost of the ten campuses of the University of California \\nsystem.',\n",
       " 'The institution was first founded as an agricultural branch of the system in 1905 and became the seventh campus of \\nthe University of California in 1959.']"
      ]
     },
     "execution_count": 14,
     "metadata": {},
     "output_type": "execute_result"
    }
   ],
   "source": [
    "sent_tokens"
   ]
  },
  {
   "cell_type": "code",
   "execution_count": 17,
   "id": "a2c126ee",
   "metadata": {},
   "outputs": [
    {
     "name": "stdout",
     "output_type": "stream",
     "text": [
      "The University of California, Davis (UC Davis, UCD, or Davis) is a public land-grant research university near \n",
      "Davis, California.\n",
      "-----------------------------------------------------------------------------------------------------\n",
      "[11] Named a Public Ivy,[12] it is the northernmost of the ten campuses of the University of California \n",
      "system.\n",
      "-----------------------------------------------------------------------------------------------------\n",
      "The institution was first founded as an agricultural branch of the system in 1905 and became the seventh campus of \n",
      "the University of California in 1959.\n",
      "-----------------------------------------------------------------------------------------------------\n"
     ]
    }
   ],
   "source": [
    "#Easy to read format\n",
    "for sentence in sent_tokens:\n",
    "    print(sentence)\n",
    "    print('-----------------------------------------------------------------------------------------------------')"
   ]
  },
  {
   "cell_type": "code",
   "execution_count": 15,
   "id": "4d9eb23f",
   "metadata": {},
   "outputs": [
    {
     "data": {
      "text/plain": [
       "['The',\n",
       " 'University',\n",
       " 'of',\n",
       " 'California',\n",
       " ',',\n",
       " 'Davis',\n",
       " '(',\n",
       " 'UC',\n",
       " 'Davis',\n",
       " ',',\n",
       " 'UCD',\n",
       " ',',\n",
       " 'or',\n",
       " 'Davis',\n",
       " ')',\n",
       " 'is',\n",
       " 'a',\n",
       " 'public',\n",
       " 'land-grant',\n",
       " 'research',\n",
       " 'university',\n",
       " 'near',\n",
       " 'Davis',\n",
       " ',',\n",
       " 'California',\n",
       " '.',\n",
       " '[',\n",
       " '11',\n",
       " ']',\n",
       " 'Named',\n",
       " 'a',\n",
       " 'Public',\n",
       " 'Ivy',\n",
       " ',',\n",
       " '[',\n",
       " '12',\n",
       " ']',\n",
       " 'it',\n",
       " 'is',\n",
       " 'the',\n",
       " 'northernmost',\n",
       " 'of',\n",
       " 'the',\n",
       " 'ten',\n",
       " 'campuses',\n",
       " 'of',\n",
       " 'the',\n",
       " 'University',\n",
       " 'of',\n",
       " 'California',\n",
       " 'system',\n",
       " '.',\n",
       " 'The',\n",
       " 'institution',\n",
       " 'was',\n",
       " 'first',\n",
       " 'founded',\n",
       " 'as',\n",
       " 'an',\n",
       " 'agricultural',\n",
       " 'branch',\n",
       " 'of',\n",
       " 'the',\n",
       " 'system',\n",
       " 'in',\n",
       " '1905',\n",
       " 'and',\n",
       " 'became',\n",
       " 'the',\n",
       " 'seventh',\n",
       " 'campus',\n",
       " 'of',\n",
       " 'the',\n",
       " 'University',\n",
       " 'of',\n",
       " 'California',\n",
       " 'in',\n",
       " '1959',\n",
       " '.']"
      ]
     },
     "execution_count": 15,
     "metadata": {},
     "output_type": "execute_result"
    }
   ],
   "source": [
    "word_tokens"
   ]
  },
  {
   "cell_type": "code",
   "execution_count": 31,
   "id": "b2bae6a4",
   "metadata": {},
   "outputs": [],
   "source": [
    "#We will be importing some new packages\n",
    "import string\n",
    "\n",
    "#Vectorizer converts two texts into a vector. In this example, we will be using CountVectorizer\n",
    "from sklearn.feature_extraction.text import TfidfVectorizer\n",
    "from sklearn.feature_extraction.text import CountVectorizer\n",
    "\n",
    "#This calculates the angle between a vector. It is used to detect similarity\n",
    "from sklearn.metrics.pairwise import cosine_similarity\n",
    "\n",
    "#Stopwords include articles and pronouns\n",
    "from nltk.corpus import stopwords"
   ]
  },
  {
   "cell_type": "code",
   "execution_count": 32,
   "id": "c3b5acf3",
   "metadata": {},
   "outputs": [],
   "source": [
    "#extract stopwords\n",
    "stopwords = stopwords.words('english')"
   ]
  },
  {
   "cell_type": "code",
   "execution_count": 38,
   "id": "b642e4bd",
   "metadata": {},
   "outputs": [],
   "source": [
    "#List of sentences we would like to compare\n",
    "sentences = [\n",
    "    'The javelin throw was added to the Ancient Olympic Games as part of the pentathlon in 708 BC. ',\n",
    "    'It included two events, one for distance and the other for accuracy in hitting a target.',\n",
    "    'Throwing javelin-like poles into targets was revived in Germany and Sweden in the early 1870s.',\n",
    "    'In Sweden, these poles developed into the modern javelin, and throwing them for distance became a common event there and in Finland in the 1880s.'\n",
    "]"
   ]
  },
  {
   "cell_type": "code",
   "execution_count": 39,
   "id": "909fd3e5",
   "metadata": {},
   "outputs": [],
   "source": [
    "#creates a function to reformat the string.\n",
    "def format_string(text):\n",
    "    text = ''.join([word for word in text if word not in string.punctuation])\n",
    "    text = text.lower()\n",
    "    text = ' '.join([word for word in text.split() if word not in stopwords])\n",
    "    \n",
    "    return text"
   ]
  },
  {
   "cell_type": "code",
   "execution_count": 40,
   "id": "1f42f9f7",
   "metadata": {},
   "outputs": [
    {
     "data": {
      "text/plain": [
       "['javelin throw added ancient olympic games part pentathlon 708 bc',\n",
       " 'included two events one distance accuracy hitting target',\n",
       " 'throwing javelinlike poles targets revived germany sweden early 1870s',\n",
       " 'sweden poles developed modern javelin throwing distance became common event finland 1880s']"
      ]
     },
     "execution_count": 40,
     "metadata": {},
     "output_type": "execute_result"
    }
   ],
   "source": [
    "#can use a for loop, but there is already a map function.\n",
    "format_list = list(map(format_string, sentences))\n",
    "format_list"
   ]
  },
  {
   "cell_type": "code",
   "execution_count": 41,
   "id": "52cd76de",
   "metadata": {},
   "outputs": [
    {
     "data": {
      "text/plain": [
       "array([[0, 0, 1, 0, 1, 1, 1, 0, 0, 0, 0, 0, 0, 0, 0, 1, 0, 0, 0, 1, 0, 0,\n",
       "        1, 0, 1, 1, 0, 0, 0, 0, 0, 1, 0, 0],\n",
       "       [0, 0, 0, 1, 0, 0, 0, 0, 0, 0, 1, 0, 0, 1, 0, 0, 0, 1, 1, 0, 0, 0,\n",
       "        0, 1, 0, 0, 0, 0, 0, 1, 0, 0, 0, 1],\n",
       "       [1, 0, 0, 0, 0, 0, 0, 0, 0, 0, 0, 1, 0, 0, 0, 0, 1, 0, 0, 0, 1, 0,\n",
       "        0, 0, 0, 0, 1, 1, 1, 0, 1, 0, 1, 0],\n",
       "       [0, 1, 0, 0, 0, 0, 0, 1, 1, 1, 1, 0, 1, 0, 1, 0, 0, 0, 0, 1, 0, 1,\n",
       "        0, 0, 0, 0, 1, 0, 1, 0, 0, 0, 1, 0]], dtype=int64)"
      ]
     },
     "execution_count": 41,
     "metadata": {},
     "output_type": "execute_result"
    }
   ],
   "source": [
    "#creates the vectors\n",
    "count_vectorizer = CountVectorizer().fit_transform(format_list)\n",
    "count_vectors = count_vectorizer.toarray()\n",
    "count_vectors"
   ]
  },
  {
   "cell_type": "code",
   "execution_count": 42,
   "id": "46beeecd",
   "metadata": {},
   "outputs": [
    {
     "data": {
      "text/plain": [
       "array([[1.        , 0.        , 0.        , 0.09128709],\n",
       "       [0.        , 1.        , 0.        , 0.10206207],\n",
       "       [0.        , 0.        , 1.        , 0.28867513],\n",
       "       [0.09128709, 0.10206207, 0.28867513, 1.        ]])"
      ]
     },
     "execution_count": 42,
     "metadata": {},
     "output_type": "execute_result"
    }
   ],
   "source": [
    "#Creates the similarity and outputs it to a matrix\n",
    "similarity = cosine_similarity(count_vectors)\n",
    "similarity"
   ]
  }
 ],
 "metadata": {
  "hide_input": false,
  "kernelspec": {
   "display_name": "Python 3 (ipykernel)",
   "language": "python",
   "name": "python3"
  },
  "language_info": {
   "codemirror_mode": {
    "name": "ipython",
    "version": 3
   },
   "file_extension": ".py",
   "mimetype": "text/x-python",
   "name": "python",
   "nbconvert_exporter": "python",
   "pygments_lexer": "ipython3",
   "version": "3.9.12"
  }
 },
 "nbformat": 4,
 "nbformat_minor": 5
}
